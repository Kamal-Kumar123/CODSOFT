{
  "nbformat": 4,
  "nbformat_minor": 0,
  "metadata": {
    "colab": {
      "provenance": []
    },
    "kernelspec": {
      "name": "python3",
      "display_name": "Python 3"
    },
    "language_info": {
      "name": "python"
    }
  },
  "cells": [
    {
      "cell_type": "code",
      "execution_count": null,
      "metadata": {
        "id": "-d3CuisigD6w"
      },
      "outputs": [],
      "source": [
        "# importing all the required libraries for analyzing text\n",
        "\n",
        "import pandas as pd   #for importing data into ipynb file\n",
        "import numpy as np     #for making matrix and used of confusion matrix\n",
        "from sklearn.model_selection import train_test_split    #for splitting data into train and test\n",
        "from sklearn.feature_extraction.text import TfidfVectorizer    #for seperating features from text\n",
        "from sklearn.naive_bayes import MultinomialNB     #this is a classification model\n",
        "from sklearn.linear_model import LogisticRegression     #this is a classification model\n",
        "from sklearn.svm import SVC           #this is also a classification model\n",
        "from sklearn.metrics import accuracy_score, classification_report, confusion_matrix      #checking last accuracy of model and whole report\n"
      ]
    },
    {
      "cell_type": "code",
      "source": [
        "# Load the dataset (assuming it's in CSV format)\n",
        "data = pd.read_csv('/content/spam.csv', encoding='latin-1')     #The use of encoding='latin-1' is relevant when loading datasets that contain special characters or non-ASCII content.\n",
        "\n",
        "# Clean the data (keep only relevant columns)\n",
        "data = data[['v1', 'v2']]\n",
        "data.columns = ['label', 'message']    #here we just change name of original columns and replace these by label and message\n",
        "\n",
        "# Convert labels to binary: ham -> 0, spam -> 1\n",
        "data['label'] = data['label'].map({'ham': 0, 'spam': 1})     #here we convert label column into binary 0 or 1 output\n",
        "print(data.head())    #it is just for printing starting 5 rows\n"
      ],
      "metadata": {
        "colab": {
          "base_uri": "https://localhost:8080/"
        },
        "id": "HqzgGxEjjJeq",
        "outputId": "4cb792dd-4b31-4d73-abe4-1a7aa017ecea"
      },
      "execution_count": null,
      "outputs": [
        {
          "output_type": "stream",
          "name": "stdout",
          "text": [
            "   label                                            message\n",
            "0      0  Go until jurong point, crazy.. Available only ...\n",
            "1      0                      Ok lar... Joking wif u oni...\n",
            "2      1  Free entry in 2 a wkly comp to win FA Cup fina...\n",
            "3      0  U dun say so early hor... U c already then say...\n",
            "4      0  Nah I don't think he goes to usf, he lives aro...\n"
          ]
        }
      ]
    },
    {
      "cell_type": "code",
      "source": [
        "X = data['message']   #X is a full message column data\n",
        "y = data['label']     #y is a full label column data\n",
        "\n",
        "X_train, X_test, y_train, y_test = train_test_split(X, y, test_size=0.2, random_state=42)    #here we separate data for training and testing like 80% and 20%  respectively\n"
      ],
      "metadata": {
        "id": "r_MrIXb0jJgf"
      },
      "execution_count": null,
      "outputs": []
    },
    {
      "cell_type": "code",
      "source": [
        "vectorizer = TfidfVectorizer(stop_words='english', max_df=0.7)\n",
        "# it converts SMS text into numerical features using TF-IDF\n",
        "# Fit and transform on training data, only transform on test data\n",
        "X_train_tfidf = vectorizer.fit_transform(X_train)         #fit_transform does both:\n",
        "\n",
        "    # Learns from the data (fit),\n",
        "    # Applies the transformation (transform) on the training set to convert it into TF-IDF vectors.\n",
        "X_test_tfidf = vectorizer.transform(X_test)            # we use only transform because the TfidfVectorizer has already learned the vocabulary and IDF values from X_train during the fitting stage.\n"
      ],
      "metadata": {
        "id": "mk25EXxGjJiz"
      },
      "execution_count": null,
      "outputs": []
    },
    {
      "cell_type": "code",
      "source": [
        "nb_model = MultinomialNB()    #here we used naive bays classifier\n",
        "nb_model.fit(X_train_tfidf, y_train)   #here we train our model by providing input and output like x_train and y_train\n",
        "\n",
        "nb_predictions = nb_model.predict(X_test_tfidf)   #now we provide input to trained model and making predictions\n",
        "print(\"Naive Bayes Accuracy:\", accuracy_score(y_test, nb_predictions))    #this is final step for this model and this is the result"
      ],
      "metadata": {
        "colab": {
          "base_uri": "https://localhost:8080/"
        },
        "id": "_5wa9BPTjJlA",
        "outputId": "8f716fd1-a01c-4fe4-93ff-895f6756e977"
      },
      "execution_count": null,
      "outputs": [
        {
          "output_type": "stream",
          "name": "stdout",
          "text": [
            "Naive Bayes Accuracy: 0.9668161434977578\n"
          ]
        }
      ]
    }
  ]
}