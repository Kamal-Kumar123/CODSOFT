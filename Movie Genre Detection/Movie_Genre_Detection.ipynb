{
  "nbformat": 4,
  "nbformat_minor": 0,
  "metadata": {
    "colab": {
      "provenance": [],
      "gpuType": "T4"
    },
    "kernelspec": {
      "name": "python3",
      "display_name": "Python 3"
    },
    "language_info": {
      "name": "python"
    },
    "accelerator": "GPU"
  },
  "cells": [
    {
      "cell_type": "code",
      "source": [
        "# importing the python libraries\n",
        "import pandas as pd    #used for importing data into this file\n",
        "from sklearn.model_selection import train_test_split       # it is used to split the data into training and testing sets\n",
        "from sklearn.feature_extraction.text import TfidfVectorizer    # used to convert text data into numerical vectors\n",
        "from sklearn.naive_bayes import MultinomialNB      #this is a classifier\n",
        "# from sklearn.linear_model import LogisticRegression\n",
        "# from sklearn.svm import SVC               we don't used these two because we have to use only one model\n",
        "from sklearn.metrics import accuracy_score, classification_report    #it is used for checking report of accuracy of model\n",
        "from nltk.corpus import stopwords\n",
        "from nltk.tokenize import word_tokenize\n",
        "import nltk\n",
        "#  The nltk (Natural Language Toolkit) library contains many useful corpora, tools, and functionalities for working with human language data (text).\n",
        "nltk.download('punkt')\n",
        "nltk.download('stopwords')        #these two packages if downloaded then output show True for this"
      ],
      "metadata": {
        "colab": {
          "base_uri": "https://localhost:8080/"
        },
        "id": "r_cpWL7-c566",
        "outputId": "a5505fe4-1d9e-4449-b218-ee778feb4297"
      },
      "execution_count": null,
      "outputs": [
        {
          "output_type": "stream",
          "name": "stderr",
          "text": [
            "[nltk_data] Downloading package punkt to /root/nltk_data...\n",
            "[nltk_data]   Package punkt is already up-to-date!\n",
            "[nltk_data] Downloading package stopwords to /root/nltk_data...\n",
            "[nltk_data]   Package stopwords is already up-to-date!\n"
          ]
        },
        {
          "output_type": "execute_result",
          "data": {
            "text/plain": [
              "True"
            ]
          },
          "metadata": {},
          "execution_count": 20
        }
      ]
    },
    {
      "cell_type": "code",
      "source": [
        "# loading the dataset\n",
        "data = pd.read_csv(\"/content/formatted_movies_genre.csv\")             #Importing the data files from csv file\n",
        "print(data.head())\n",
        "data1 = pd.read_csv(\"/content/formatted_test_data.csv\")\n",
        "data2 = pd.read_csv(\"/content/formatted_test_data_solution.csv\")\n"
      ],
      "metadata": {
        "colab": {
          "base_uri": "https://localhost:8080/"
        },
        "id": "KzdA5uefc59B",
        "outputId": "8a91e9e6-87e8-4791-b8aa-05612e081549"
      },
      "execution_count": null,
      "outputs": [
        {
          "output_type": "stream",
          "name": "stdout",
          "text": [
            "   ID                             Title     Genre  \\\n",
            "0  \"1      Oscar et la dame rose (2009)     drama   \n",
            "1  \"2                      Cupid (1997)  thriller   \n",
            "2  \"3  Young, Wild and Wonderful (1980)     adult   \n",
            "3  \"4             The Secret Sin (1915)     drama   \n",
            "4  \"5            The Unrecovered (2007)     drama   \n",
            "\n",
            "                                        Plot Summary  \n",
            "0  Listening in to a conversation between his doc...  \n",
            "1  A brother and sister with a past incestuous re...  \n",
            "2  As the bus empties the students for their fiel...  \n",
            "3  To help their unemployed father make ends meet...  \n",
            "4  The film's title refers not only to the un-rec...  \n"
          ]
        }
      ]
    },
    {
      "cell_type": "code",
      "source": [
        "# process of text data\n",
        "# Preprocess the text: lowercase, remove stop words, and tokenize\n",
        "stop_words = set(stopwords.words('english'))\n",
        "plot_summaries = data['Plot Summary']\n",
        "plot_summaries1 = data1['Plot Summary']\n",
        "plot_summaries2 = data2['Genre']\n",
        "#below is just a preprocessing function used for process of data like text\n",
        "def preprocess_text(text):\n",
        "    # Tokenize and lowercase the text\n",
        "    tokens = word_tokenize(text.lower())\n",
        "    # Remove stopwords\n",
        "    tokens = [word for word in tokens if word.isalpha() and word not in stop_words]\n",
        "    return ' '.join(tokens)\n",
        "\n",
        "# Apply preprocessing to the plot summaries and detection the words\n",
        "data['clean_Plot_Summary'] = plot_summaries.apply(preprocess_text)\n",
        "data1['clean_Plot_Summary1'] = plot_summaries1.apply(preprocess_text)\n",
        "data2['Genre'] = plot_summaries2.apply(preprocess_text)\n",
        "\n",
        "# Inspect the cleaned data\n",
        "print(data['clean_Plot_Summary'].head())\n"
      ],
      "metadata": {
        "colab": {
          "base_uri": "https://localhost:8080/"
        },
        "id": "8tGywdf1c5_T",
        "outputId": "c873387f-5d6e-4377-9273-b1a86be9d43f"
      },
      "execution_count": null,
      "outputs": [
        {
          "output_type": "stream",
          "name": "stdout",
          "text": [
            "0    listening conversation doctor parents oscar le...\n",
            "1    brother sister past incestuous relationship cu...\n",
            "2    bus empties students field trip museum natural...\n",
            "3    help unemployed father make ends meet edith tw...\n",
            "4    film title refers bodies ground zero also stat...\n",
            "Name: clean_Plot_Summary, dtype: object\n"
          ]
        }
      ]
    },
    {
      "cell_type": "code",
      "source": [
        "# feature extraction TF-IDF\n",
        "# Convert the text into numerical vectors using TF-IDF\n",
        "\n",
        "tfidf_vectorizer = TfidfVectorizer(max_features=5000)\n",
        "X = tfidf_vectorizer.fit_transform(data['clean_Plot_Summary'])\n",
        "X1 = tfidf_vectorizer.fit_transform(data1['clean_Plot_Summary1'])\n",
        "\n",
        "# Define the target variable (the genre)  and take this as a separate column and store in a variable\n",
        "Y = data['Genre']\n",
        "Y1 = data2['Genre']\n",
        "# print(data['Genre'].isnull().sum())  # Check for missing values\n",
        "# data = data.dropna(subset=['Genre'])  # Drop rows with missing genres\n",
        "# print(data.columns)\n",
        "\n"
      ],
      "metadata": {
        "id": "fR0A1GFFc6Bj"
      },
      "execution_count": null,
      "outputs": []
    },
    {
      "cell_type": "code",
      "source": [
        "# Train a Naive Bayes classifier\n",
        "nb_model = MultinomialNB()\n",
        "nb_model.fit(X,Y)    #Here X,Y are x_train, y_train   and X1 is x_test and Y1 is y_test\n",
        "\n",
        "# Make predictions\n",
        "y_pred_nb = nb_model.predict(X1)\n",
        "\n",
        "# Evaluate performance\n",
        "print(\"Naive Bayes Accuracy:\", accuracy_score(Y1, y_pred_nb))\n",
        "print(classification_report(Y1, y_pred_nb))"
      ],
      "metadata": {
        "colab": {
          "base_uri": "https://localhost:8080/"
        },
        "id": "jYWnktnqc6Dh",
        "outputId": "bc5960d5-149d-4d5d-ccae-544d5daa909f"
      },
      "execution_count": null,
      "outputs": [
        {
          "output_type": "stream",
          "name": "stdout",
          "text": [
            "Naive Bayes Accuracy: 0.26924354243542437\n"
          ]
        },
        {
          "output_type": "stream",
          "name": "stderr",
          "text": [
            "/usr/local/lib/python3.10/dist-packages/sklearn/metrics/_classification.py:1531: UndefinedMetricWarning: Precision is ill-defined and being set to 0.0 in labels with no predicted samples. Use `zero_division` parameter to control this behavior.\n",
            "  _warn_prf(average, modifier, f\"{metric.capitalize()} is\", len(result))\n",
            "/usr/local/lib/python3.10/dist-packages/sklearn/metrics/_classification.py:1531: UndefinedMetricWarning: Recall is ill-defined and being set to 0.0 in labels with no true samples. Use `zero_division` parameter to control this behavior.\n",
            "  _warn_prf(average, modifier, f\"{metric.capitalize()} is\", len(result))\n",
            "/usr/local/lib/python3.10/dist-packages/sklearn/metrics/_classification.py:1531: UndefinedMetricWarning: Precision is ill-defined and being set to 0.0 in labels with no predicted samples. Use `zero_division` parameter to control this behavior.\n",
            "  _warn_prf(average, modifier, f\"{metric.capitalize()} is\", len(result))\n",
            "/usr/local/lib/python3.10/dist-packages/sklearn/metrics/_classification.py:1531: UndefinedMetricWarning: Recall is ill-defined and being set to 0.0 in labels with no true samples. Use `zero_division` parameter to control this behavior.\n",
            "  _warn_prf(average, modifier, f\"{metric.capitalize()} is\", len(result))\n"
          ]
        },
        {
          "output_type": "stream",
          "name": "stdout",
          "text": [
            "              precision    recall  f1-score   support\n",
            "\n",
            "                   0.00      0.00      0.00      2113\n",
            "      action       0.03      0.00      0.01      1314\n",
            "       adult       0.00      0.00      0.00       590\n",
            "   adventure       0.02      0.01      0.01       775\n",
            "   animation       0.00      0.00      0.00       498\n",
            "   biography       0.00      0.00      0.00       264\n",
            "      comedy       0.19      0.14      0.16      7446\n",
            "       crime       0.05      0.00      0.01       505\n",
            " documentary       0.31      0.54      0.40     13096\n",
            "       drama       0.29      0.44      0.35     13612\n",
            "      family       0.00      0.00      0.00       783\n",
            "     fantasy       0.00      0.00      0.00       322\n",
            "   game-show       0.00      0.00      0.00         0\n",
            "     history       0.00      0.00      0.00       243\n",
            "      horror       0.11      0.02      0.03      2204\n",
            "       music       0.06      0.01      0.01       731\n",
            "     musical       0.00      0.00      0.00       276\n",
            "     mystery       0.00      0.00      0.00       318\n",
            "        news       0.00      0.00      0.00       181\n",
            "  reality-tv       0.00      0.00      0.00         0\n",
            "     romance       0.00      0.00      0.00       672\n",
            "      sci-fi       0.00      0.00      0.00         0\n",
            "       short       0.10      0.07      0.08      5072\n",
            "       sport       0.00      0.00      0.00       431\n",
            "   talk-show       0.00      0.00      0.00         0\n",
            "    thriller       0.07      0.01      0.01      1590\n",
            "         war       0.00      0.00      0.00       132\n",
            "     western       0.04      0.01      0.01      1032\n",
            "\n",
            "    accuracy                           0.27     54200\n",
            "   macro avg       0.05      0.04      0.04     54200\n",
            "weighted avg       0.19      0.27      0.22     54200\n",
            "\n"
          ]
        },
        {
          "output_type": "stream",
          "name": "stderr",
          "text": [
            "/usr/local/lib/python3.10/dist-packages/sklearn/metrics/_classification.py:1531: UndefinedMetricWarning: Precision is ill-defined and being set to 0.0 in labels with no predicted samples. Use `zero_division` parameter to control this behavior.\n",
            "  _warn_prf(average, modifier, f\"{metric.capitalize()} is\", len(result))\n",
            "/usr/local/lib/python3.10/dist-packages/sklearn/metrics/_classification.py:1531: UndefinedMetricWarning: Recall is ill-defined and being set to 0.0 in labels with no true samples. Use `zero_division` parameter to control this behavior.\n",
            "  _warn_prf(average, modifier, f\"{metric.capitalize()} is\", len(result))\n"
          ]
        }
      ]
    }
  ]
}